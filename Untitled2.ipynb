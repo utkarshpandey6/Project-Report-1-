{
  "nbformat": 4,
  "nbformat_minor": 0,
  "metadata": {
    "colab": {
      "name": "Untitled2.ipynb",
      "provenance": [],
      "collapsed_sections": [],
      "authorship_tag": "ABX9TyMU6B/AwC1AS364r5x13H0Z",
      "include_colab_link": true
    },
    "kernelspec": {
      "name": "python3",
      "display_name": "Python 3"
    },
    "language_info": {
      "name": "python"
    },
    "accelerator": "GPU",
    "widgets": {
      "application/vnd.jupyter.widget-state+json": {
        "1c8e77966b0849b894daecbdf3959d71": {
          "model_module": "@jupyter-widgets/controls",
          "model_name": "HBoxModel",
          "model_module_version": "1.5.0",
          "state": {
            "_view_name": "HBoxView",
            "_dom_classes": [],
            "_model_name": "HBoxModel",
            "_view_module": "@jupyter-widgets/controls",
            "_model_module_version": "1.5.0",
            "_view_count": null,
            "_view_module_version": "1.5.0",
            "box_style": "",
            "layout": "IPY_MODEL_b59c7f8a45244e098275cc0b62a947fd",
            "_model_module": "@jupyter-widgets/controls",
            "children": [
              "IPY_MODEL_1a064594a1024a73a6fda04a37eaf22b",
              "IPY_MODEL_324958b2dedb4e95b1e9e9cf27017ea3",
              "IPY_MODEL_f9a51471ac3f4437b0e21cf3f81cc5e2"
            ]
          }
        },
        "b59c7f8a45244e098275cc0b62a947fd": {
          "model_module": "@jupyter-widgets/base",
          "model_name": "LayoutModel",
          "model_module_version": "1.2.0",
          "state": {
            "_view_name": "LayoutView",
            "grid_template_rows": null,
            "right": null,
            "justify_content": null,
            "_view_module": "@jupyter-widgets/base",
            "overflow": null,
            "_model_module_version": "1.2.0",
            "_view_count": null,
            "flex_flow": null,
            "width": null,
            "min_width": null,
            "border": null,
            "align_items": null,
            "bottom": null,
            "_model_module": "@jupyter-widgets/base",
            "top": null,
            "grid_column": null,
            "overflow_y": null,
            "overflow_x": null,
            "grid_auto_flow": null,
            "grid_area": null,
            "grid_template_columns": null,
            "flex": null,
            "_model_name": "LayoutModel",
            "justify_items": null,
            "grid_row": null,
            "max_height": null,
            "align_content": null,
            "visibility": null,
            "align_self": null,
            "height": null,
            "min_height": null,
            "padding": null,
            "grid_auto_rows": null,
            "grid_gap": null,
            "max_width": null,
            "order": null,
            "_view_module_version": "1.2.0",
            "grid_template_areas": null,
            "object_position": null,
            "object_fit": null,
            "grid_auto_columns": null,
            "margin": null,
            "display": null,
            "left": null
          }
        },
        "1a064594a1024a73a6fda04a37eaf22b": {
          "model_module": "@jupyter-widgets/controls",
          "model_name": "HTMLModel",
          "model_module_version": "1.5.0",
          "state": {
            "_view_name": "HTMLView",
            "style": "IPY_MODEL_871f263769ad4aec8c58fafccc342129",
            "_dom_classes": [],
            "description": "",
            "_model_name": "HTMLModel",
            "placeholder": "​",
            "_view_module": "@jupyter-widgets/controls",
            "_model_module_version": "1.5.0",
            "value": "",
            "_view_count": null,
            "_view_module_version": "1.5.0",
            "description_tooltip": null,
            "_model_module": "@jupyter-widgets/controls",
            "layout": "IPY_MODEL_48950fb206f847d69bf372c390192dbc"
          }
        },
        "324958b2dedb4e95b1e9e9cf27017ea3": {
          "model_module": "@jupyter-widgets/controls",
          "model_name": "FloatProgressModel",
          "model_module_version": "1.5.0",
          "state": {
            "_view_name": "ProgressView",
            "style": "IPY_MODEL_a061f9b43bf84e299c3bacc041037fe1",
            "_dom_classes": [],
            "description": "",
            "_model_name": "FloatProgressModel",
            "bar_style": "success",
            "max": 248100043,
            "_view_module": "@jupyter-widgets/controls",
            "_model_module_version": "1.5.0",
            "value": 248100043,
            "_view_count": null,
            "_view_module_version": "1.5.0",
            "orientation": "horizontal",
            "min": 0,
            "description_tooltip": null,
            "_model_module": "@jupyter-widgets/controls",
            "layout": "IPY_MODEL_47482b97360b476690de1c28f4153d5c"
          }
        },
        "f9a51471ac3f4437b0e21cf3f81cc5e2": {
          "model_module": "@jupyter-widgets/controls",
          "model_name": "HTMLModel",
          "model_module_version": "1.5.0",
          "state": {
            "_view_name": "HTMLView",
            "style": "IPY_MODEL_2c84d3fd1fad41f4b585b4f7f69bbace",
            "_dom_classes": [],
            "description": "",
            "_model_name": "HTMLModel",
            "placeholder": "​",
            "_view_module": "@jupyter-widgets/controls",
            "_model_module_version": "1.5.0",
            "value": " 248100864/? [00:08&lt;00:00, 50653335.86it/s]",
            "_view_count": null,
            "_view_module_version": "1.5.0",
            "description_tooltip": null,
            "_model_module": "@jupyter-widgets/controls",
            "layout": "IPY_MODEL_06105fa26bab4c31aac2e5f96f06e194"
          }
        },
        "871f263769ad4aec8c58fafccc342129": {
          "model_module": "@jupyter-widgets/controls",
          "model_name": "DescriptionStyleModel",
          "model_module_version": "1.5.0",
          "state": {
            "_view_name": "StyleView",
            "_model_name": "DescriptionStyleModel",
            "description_width": "",
            "_view_module": "@jupyter-widgets/base",
            "_model_module_version": "1.5.0",
            "_view_count": null,
            "_view_module_version": "1.2.0",
            "_model_module": "@jupyter-widgets/controls"
          }
        },
        "48950fb206f847d69bf372c390192dbc": {
          "model_module": "@jupyter-widgets/base",
          "model_name": "LayoutModel",
          "model_module_version": "1.2.0",
          "state": {
            "_view_name": "LayoutView",
            "grid_template_rows": null,
            "right": null,
            "justify_content": null,
            "_view_module": "@jupyter-widgets/base",
            "overflow": null,
            "_model_module_version": "1.2.0",
            "_view_count": null,
            "flex_flow": null,
            "width": null,
            "min_width": null,
            "border": null,
            "align_items": null,
            "bottom": null,
            "_model_module": "@jupyter-widgets/base",
            "top": null,
            "grid_column": null,
            "overflow_y": null,
            "overflow_x": null,
            "grid_auto_flow": null,
            "grid_area": null,
            "grid_template_columns": null,
            "flex": null,
            "_model_name": "LayoutModel",
            "justify_items": null,
            "grid_row": null,
            "max_height": null,
            "align_content": null,
            "visibility": null,
            "align_self": null,
            "height": null,
            "min_height": null,
            "padding": null,
            "grid_auto_rows": null,
            "grid_gap": null,
            "max_width": null,
            "order": null,
            "_view_module_version": "1.2.0",
            "grid_template_areas": null,
            "object_position": null,
            "object_fit": null,
            "grid_auto_columns": null,
            "margin": null,
            "display": null,
            "left": null
          }
        },
        "a061f9b43bf84e299c3bacc041037fe1": {
          "model_module": "@jupyter-widgets/controls",
          "model_name": "ProgressStyleModel",
          "model_module_version": "1.5.0",
          "state": {
            "_view_name": "StyleView",
            "_model_name": "ProgressStyleModel",
            "description_width": "",
            "_view_module": "@jupyter-widgets/base",
            "_model_module_version": "1.5.0",
            "_view_count": null,
            "_view_module_version": "1.2.0",
            "bar_color": null,
            "_model_module": "@jupyter-widgets/controls"
          }
        },
        "47482b97360b476690de1c28f4153d5c": {
          "model_module": "@jupyter-widgets/base",
          "model_name": "LayoutModel",
          "model_module_version": "1.2.0",
          "state": {
            "_view_name": "LayoutView",
            "grid_template_rows": null,
            "right": null,
            "justify_content": null,
            "_view_module": "@jupyter-widgets/base",
            "overflow": null,
            "_model_module_version": "1.2.0",
            "_view_count": null,
            "flex_flow": null,
            "width": null,
            "min_width": null,
            "border": null,
            "align_items": null,
            "bottom": null,
            "_model_module": "@jupyter-widgets/base",
            "top": null,
            "grid_column": null,
            "overflow_y": null,
            "overflow_x": null,
            "grid_auto_flow": null,
            "grid_area": null,
            "grid_template_columns": null,
            "flex": null,
            "_model_name": "LayoutModel",
            "justify_items": null,
            "grid_row": null,
            "max_height": null,
            "align_content": null,
            "visibility": null,
            "align_self": null,
            "height": null,
            "min_height": null,
            "padding": null,
            "grid_auto_rows": null,
            "grid_gap": null,
            "max_width": null,
            "order": null,
            "_view_module_version": "1.2.0",
            "grid_template_areas": null,
            "object_position": null,
            "object_fit": null,
            "grid_auto_columns": null,
            "margin": null,
            "display": null,
            "left": null
          }
        },
        "2c84d3fd1fad41f4b585b4f7f69bbace": {
          "model_module": "@jupyter-widgets/controls",
          "model_name": "DescriptionStyleModel",
          "model_module_version": "1.5.0",
          "state": {
            "_view_name": "StyleView",
            "_model_name": "DescriptionStyleModel",
            "description_width": "",
            "_view_module": "@jupyter-widgets/base",
            "_model_module_version": "1.5.0",
            "_view_count": null,
            "_view_module_version": "1.2.0",
            "_model_module": "@jupyter-widgets/controls"
          }
        },
        "06105fa26bab4c31aac2e5f96f06e194": {
          "model_module": "@jupyter-widgets/base",
          "model_name": "LayoutModel",
          "model_module_version": "1.2.0",
          "state": {
            "_view_name": "LayoutView",
            "grid_template_rows": null,
            "right": null,
            "justify_content": null,
            "_view_module": "@jupyter-widgets/base",
            "overflow": null,
            "_model_module_version": "1.2.0",
            "_view_count": null,
            "flex_flow": null,
            "width": null,
            "min_width": null,
            "border": null,
            "align_items": null,
            "bottom": null,
            "_model_module": "@jupyter-widgets/base",
            "top": null,
            "grid_column": null,
            "overflow_y": null,
            "overflow_x": null,
            "grid_auto_flow": null,
            "grid_area": null,
            "grid_template_columns": null,
            "flex": null,
            "_model_name": "LayoutModel",
            "justify_items": null,
            "grid_row": null,
            "max_height": null,
            "align_content": null,
            "visibility": null,
            "align_self": null,
            "height": null,
            "min_height": null,
            "padding": null,
            "grid_auto_rows": null,
            "grid_gap": null,
            "max_width": null,
            "order": null,
            "_view_module_version": "1.2.0",
            "grid_template_areas": null,
            "object_position": null,
            "object_fit": null,
            "grid_auto_columns": null,
            "margin": null,
            "display": null,
            "left": null
          }
        }
      }
    }
  },
  "cells": [
    {
      "cell_type": "markdown",
      "metadata": {
        "id": "view-in-github",
        "colab_type": "text"
      },
      "source": [
        "<a href=\"https://colab.research.google.com/github/utkarshpandey6/Project-Report-1-/blob/main/Untitled2.ipynb\" target=\"_parent\"><img src=\"https://colab.research.google.com/assets/colab-badge.svg\" alt=\"Open In Colab\"/></a>"
      ]
    },
    {
      "cell_type": "code",
      "execution_count": null,
      "metadata": {
        "id": "ZV-jxN8Srcer"
      },
      "outputs": [],
      "source": [
        "import torch\n",
        "import torch.nn as nn\n",
        "\n",
        "class PatchEmbed(nn.Module):\n",
        "  '''\n",
        "    img_size : int\n",
        "      Size of the image\n",
        "\n",
        "    patch_size : int \n",
        "      Size of the patch\n",
        "\n",
        "    in_chans: int \n",
        "      Number of input channels\n",
        "\n",
        "    embed_dim : int\n",
        "      The emmbedding dimension\n",
        "\n",
        "  Attributes\n",
        "\n",
        "  n_patches: int \n",
        "    Number of ptched inside of our image\n",
        "\n",
        "  proj: nn.Conv2d\n",
        "    Convolutional layer that does both the splitting into patched and theri embedding\n",
        "  '''\n",
        "\n",
        "  def __init__(self, img_size, patch_size, in_chans=3, embed_dim=768):\n",
        "    super().__init__()\n",
        "    self.img_size = img_size\n",
        "    self.patch_size = patch_size\n",
        "    self.n_patches = (img_size // patch_size) ** 2\n",
        "    self.proj = nn.Conv2d(in_chans, embed_dim, kernel_size=patch_size, stride=patch_size)\n",
        "\n",
        "  def forward(self, x):\n",
        "    '''\n",
        "      parameters\n",
        "        shape (n_samples, in_chans, img_size, img_size)`\n",
        "      returns\n",
        "        shape (n_samples, n_patches, embed_dim)\n",
        "    '''\n",
        "\n",
        "    x = self.proj(x) # (n_samples, embed_dim, n_patches ** 0.5, n_patches ** 0.5)\n",
        "    x = x.flatten(2)  # shape (n_samples, embed_dim,  n_patches) \n",
        "    x = x.transpose(1, 2) # shape (n_samples, n_patches, embed_dim)\n",
        "\n",
        "    return x"
      ]
    },
    {
      "cell_type": "code",
      "source": [
        "class Attention(nn.Module):\n",
        "    \"\"\"Attention mechanism.\n",
        "    Parameters\n",
        "    ----------\n",
        "    dim : int\n",
        "        The input and out dimension of per token features.\n",
        "    n_heads : int\n",
        "        Number of attention heads.\n",
        "    qkv_bias : bool\n",
        "        If True then we include bias to the query, key and value projections.\n",
        "    attn_p : float\n",
        "        Dropout probability applied to the query, key and value tensors.\n",
        "    proj_p : float\n",
        "        Dropout probability applied to the output tensor.\n",
        "    Attributes\n",
        "    ----------\n",
        "    scale : float\n",
        "        Normalizing consant for the dot product.\n",
        "    qkv : nn.Linear\n",
        "        Linear projection for the query, key and value.\n",
        "    proj : nn.Linear\n",
        "        Linear mapping that takes in the concatenated output of all attention\n",
        "        heads and maps it into a new space.\n",
        "    attn_drop, proj_drop : nn.Dropout\n",
        "        Dropout layers.\n",
        "    \"\"\"\n",
        "    def __init__(self, dim, n_heads=12, qkv_bias=True, attn_p=0., proj_p=0.):\n",
        "        super().__init__()\n",
        "        self.n_heads = n_heads\n",
        "        self.dim = dim\n",
        "        self.head_dim = dim // n_heads\n",
        "        self.scale = self.head_dim ** -0.5\n",
        "\n",
        "        self.qkv = nn.Linear(dim, dim * 3, bias=qkv_bias)\n",
        "        self.attn_drop = nn.Dropout(attn_p)\n",
        "        self.proj = nn.Linear(dim, dim)\n",
        "        self.proj_drop = nn.Dropout(proj_p)\n",
        "\n",
        "    def forward(self, x):\n",
        "        \"\"\"Run forward pass.\n",
        "        Parameters\n",
        "        ----------\n",
        "        x : torch.Tensor\n",
        "            Shape `(n_samples, n_patches + 1, dim)`.\n",
        "        Returns\n",
        "        -------\n",
        "        torch.Tensor\n",
        "            Shape `(n_samples, n_patches + 1, dim)`.\n",
        "        \"\"\"\n",
        "        n_samples, n_tokens, dim = x.shape\n",
        "\n",
        "        if dim != self.dim:\n",
        "            raise ValueError\n",
        "\n",
        "        qkv = self.qkv(x)  # (n_samples, n_patches + 1, 3 * dim)\n",
        "        qkv = qkv.reshape(\n",
        "                n_samples, n_tokens, 3, self.n_heads, self.head_dim\n",
        "        )  # (n_smaples, n_patches + 1, 3, n_heads, head_dim)\n",
        "        qkv = qkv.permute(\n",
        "                2, 0, 3, 1, 4\n",
        "        )  # (3, n_samples, n_heads, n_patches + 1, head_dim)\n",
        "\n",
        "        q, k, v = qkv[0], qkv[1], qkv[2]\n",
        "        k_t = k.transpose(-2, -1)  # (n_samples, n_heads, head_dim, n_patches + 1)\n",
        "        dp = (\n",
        "           q @ k_t\n",
        "        ) * self.scale # (n_samples, n_heads, n_patches + 1, n_patches + 1)\n",
        "        attn = dp.softmax(dim=-1)  # (n_samples, n_heads, n_patches + 1, n_patches + 1)\n",
        "        attn = self.attn_drop(attn)\n",
        "\n",
        "        weighted_avg = attn @ v  # (n_samples, n_heads, n_patches +1, head_dim)\n",
        "        weighted_avg = weighted_avg.transpose(\n",
        "                1, 2\n",
        "        )  # (n_samples, n_patches + 1, n_heads, head_dim)\n",
        "        weighted_avg = weighted_avg.flatten(2)  # (n_samples, n_patches + 1, dim)\n",
        "\n",
        "        x = self.proj(weighted_avg)  # (n_samples, n_patches + 1, dim)\n",
        "        x = self.proj_drop(x)  # (n_samples, n_patches + 1, dim)\n",
        "\n",
        "        return x\n"
      ],
      "metadata": {
        "id": "igQb2tRuum8z"
      },
      "execution_count": null,
      "outputs": []
    },
    {
      "cell_type": "code",
      "source": [
        "class MLP(nn.Module):\n",
        "    \"\"\"Multilayer perceptron.\n",
        "    Parameters\n",
        "    ----------\n",
        "    in_features : int\n",
        "        Number of input features.\n",
        "    hidden_features : int\n",
        "        Number of nodes in the hidden layer.\n",
        "    out_features : int\n",
        "        Number of output features.\n",
        "    p : float\n",
        "        Dropout probability.\n",
        "    Attributes\n",
        "    ----------\n",
        "    fc : nn.Linear\n",
        "        The First linear layer.\n",
        "    act : nn.GELU\n",
        "        GELU activation function.\n",
        "    fc2 : nn.Linear\n",
        "        The second linear layer.\n",
        "    drop : nn.Dropout\n",
        "        Dropout layer.\n",
        "    \"\"\"\n",
        "    def __init__(self, in_features, hidden_features, out_features, p=0.):\n",
        "        super().__init__()\n",
        "        self.fc1 = nn.Linear(in_features, hidden_features)\n",
        "        self.act = nn.GELU()\n",
        "        self.fc2 = nn.Linear(hidden_features, out_features)\n",
        "        self.drop = nn.Dropout(p)\n",
        "\n",
        "    def forward(self, x):\n",
        "        \"\"\"Run forward pass.\n",
        "        Parameters\n",
        "        ----------\n",
        "        x : torch.Tensor\n",
        "            Shape `(n_samples, n_patches + 1, in_features)`.\n",
        "        Returns\n",
        "        -------\n",
        "        torch.Tensor\n",
        "            Shape `(n_samples, n_patches +1, out_features)`\n",
        "        \"\"\"\n",
        "        x = self.fc1(\n",
        "                x\n",
        "        ) # (n_samples, n_patches + 1, hidden_features)\n",
        "        x = self.act(x)  # (n_samples, n_patches + 1, hidden_features)\n",
        "        x = self.drop(x)  # (n_samples, n_patches + 1, hidden_features)\n",
        "        x = self.fc2(x)  # (n_samples, n_patches + 1, hidden_features)\n",
        "        x = self.drop(x)  # (n_samples, n_patches + 1, hidden_features)\n",
        "\n",
        "        return x\n"
      ],
      "metadata": {
        "id": "tMXcRZ3uxoIt"
      },
      "execution_count": null,
      "outputs": []
    },
    {
      "cell_type": "code",
      "source": [
        "\n",
        "class Block(nn.Module):\n",
        "    \"\"\"Transformer block.\n",
        "    Parameters\n",
        "    ----------\n",
        "    dim : int\n",
        "        Embeddinig dimension.\n",
        "    n_heads : int\n",
        "        Number of attention heads.\n",
        "    mlp_ratio : float\n",
        "        Determines the hidden dimension size of the `MLP` module with respect\n",
        "        to `dim`.\n",
        "    qkv_bias : bool\n",
        "        If True then we include bias to the query, key and value projections.\n",
        "    p, attn_p : float\n",
        "        Dropout probability.\n",
        "    Attributes\n",
        "    ----------\n",
        "    norm1, norm2 : LayerNorm\n",
        "        Layer normalization.\n",
        "    attn : Attention\n",
        "        Attention module.\n",
        "    mlp : MLP\n",
        "        MLP module.\n",
        "    \"\"\"\n",
        "    def __init__(self, dim, n_heads, mlp_ratio=4.0, qkv_bias=True, p=0., attn_p=0.):\n",
        "        super().__init__()\n",
        "        self.norm1 = nn.LayerNorm(dim, eps=1e-6)\n",
        "        self.attn = Attention(\n",
        "                dim,\n",
        "                n_heads=n_heads,\n",
        "                qkv_bias=qkv_bias,\n",
        "                attn_p=attn_p,\n",
        "                proj_p=p\n",
        "        )\n",
        "        self.norm2 = nn.LayerNorm(dim, eps=1e-6)\n",
        "        hidden_features = int(dim * mlp_ratio)\n",
        "        self.mlp = MLP(\n",
        "                in_features=dim,\n",
        "                hidden_features=hidden_features,\n",
        "                out_features=dim,\n",
        "        )\n",
        "\n",
        "    def forward(self, x):\n",
        "        \"\"\"Run forward pass.\n",
        "        Parameters\n",
        "        ----------\n",
        "        x : torch.Tensor\n",
        "            Shape `(n_samples, n_patches + 1, dim)`.\n",
        "        Returns\n",
        "        -------\n",
        "        torch.Tensor\n",
        "            Shape `(n_samples, n_patches + 1, dim)`.\n",
        "        \"\"\"\n",
        "        x = x + self.attn(self.norm1(x))\n",
        "        x = x + self.mlp(self.norm2(x))\n",
        "\n",
        "        return x"
      ],
      "metadata": {
        "id": "rppLGBrtx2KO"
      },
      "execution_count": null,
      "outputs": []
    },
    {
      "cell_type": "code",
      "source": [
        "class VisionTransformer(nn.Module):\n",
        "    \"\"\"Simplified implementation of the Vision transformer.\n",
        "    Parameters\n",
        "    ----------\n",
        "    img_size : int\n",
        "        Both height and the width of the image (it is a square).\n",
        "    patch_size : int\n",
        "        Both height and the width of the patch (it is a square).\n",
        "    in_chans : int\n",
        "        Number of input channels.\n",
        "    n_classes : int\n",
        "        Number of classes.\n",
        "    embed_dim : int\n",
        "        Dimensionality of the token/patch embeddings.\n",
        "    depth : int\n",
        "        Number of blocks.\n",
        "    n_heads : int\n",
        "        Number of attention heads.\n",
        "    mlp_ratio : float\n",
        "        Determines the hidden dimension of the `MLP` module.\n",
        "    qkv_bias : bool\n",
        "        If True then we include bias to the query, key and value projections.\n",
        "    p, attn_p : float\n",
        "        Dropout probability.\n",
        "    Attributes\n",
        "    ----------\n",
        "    patch_embed : PatchEmbed\n",
        "        Instance of `PatchEmbed` layer.\n",
        "    cls_token : nn.Parameter\n",
        "        Learnable parameter that will represent the first token in the sequence.\n",
        "        It has `embed_dim` elements.\n",
        "    pos_emb : nn.Parameter\n",
        "        Positional embedding of the cls token + all the patches.\n",
        "        It has `(n_patches + 1) * embed_dim` elements.\n",
        "    pos_drop : nn.Dropout\n",
        "        Dropout layer.\n",
        "    blocks : nn.ModuleList\n",
        "        List of `Block` modules.\n",
        "    norm : nn.LayerNorm\n",
        "        Layer normalization.\n",
        "    \"\"\"\n",
        "    def __init__(\n",
        "            self,\n",
        "            img_size=384,\n",
        "            patch_size=16,\n",
        "            in_chans=3,\n",
        "            n_classes=1000,\n",
        "            embed_dim=768,\n",
        "            depth=12,\n",
        "            n_heads=12,\n",
        "            mlp_ratio=4.,\n",
        "            qkv_bias=True,\n",
        "            p=0.,\n",
        "            attn_p=0.,\n",
        "    ):\n",
        "        super().__init__()\n",
        "\n",
        "        self.patch_embed = PatchEmbed(\n",
        "                img_size=img_size,\n",
        "                patch_size=patch_size,\n",
        "                in_chans=in_chans,\n",
        "                embed_dim=embed_dim,\n",
        "        )\n",
        "        self.cls_token = nn.Parameter(torch.zeros(1, 1, embed_dim))\n",
        "        self.pos_embed = nn.Parameter(\n",
        "                torch.zeros(1, 1 + self.patch_embed.n_patches, embed_dim)\n",
        "        )\n",
        "        self.pos_drop = nn.Dropout(p=p)\n",
        "\n",
        "        self.blocks = nn.ModuleList(\n",
        "            [\n",
        "                Block(\n",
        "                    dim=embed_dim,\n",
        "                    n_heads=n_heads,\n",
        "                    mlp_ratio=mlp_ratio,\n",
        "                    qkv_bias=qkv_bias,\n",
        "                    p=p,\n",
        "                    attn_p=attn_p,\n",
        "                )\n",
        "                for _ in range(depth)\n",
        "            ]\n",
        "        )\n",
        "\n",
        "        self.norm = nn.LayerNorm(embed_dim, eps=1e-6)\n",
        "        self.head = nn.Linear(embed_dim, n_classes)\n",
        "\n",
        "\n",
        "    def forward(self, x):\n",
        "        \"\"\"Run the forward pass.\n",
        "        Parameters\n",
        "        ----------\n",
        "        x : torch.Tensor\n",
        "            Shape `(n_samples, in_chans, img_size, img_size)`.\n",
        "        Returns\n",
        "        -------\n",
        "        logits : torch.Tensor\n",
        "            Logits over all the classes - `(n_samples, n_classes)`.\n",
        "        \"\"\"\n",
        "        n_samples = x.shape[0]\n",
        "        x = self.patch_embed(x)\n",
        "\n",
        "        cls_token = self.cls_token.expand(\n",
        "                n_samples, -1, -1\n",
        "        )  # (n_samples, 1, embed_dim)\n",
        "        x = torch.cat((cls_token, x), dim=1)  # (n_samples, 1 + n_patches, embed_dim)\n",
        "        x = x + self.pos_embed  # (n_samples, 1 + n_patches, embed_dim)\n",
        "        x = self.pos_drop(x)\n",
        "\n",
        "        for block in self.blocks:\n",
        "            x = block(x)\n",
        "\n",
        "        x = self.norm(x)\n",
        "\n",
        "        cls_token_final = x[:, 0]  # just the CLS token\n",
        "        x = self.head(cls_token_final)\n",
        "\n",
        "        return x\n"
      ],
      "metadata": {
        "id": "Yp8ZqdBoy2Op"
      },
      "execution_count": null,
      "outputs": []
    },
    {
      "cell_type": "code",
      "source": [
        "!pip install timm"
      ],
      "metadata": {
        "id": "t7ux9BRr1Vo1",
        "colab": {
          "base_uri": "https://localhost:8080/"
        },
        "outputId": "9af4cd9c-f59f-486d-e940-cd4c089e1806"
      },
      "execution_count": null,
      "outputs": [
        {
          "output_type": "stream",
          "name": "stdout",
          "text": [
            "Collecting timm\n",
            "  Downloading timm-0.4.12-py3-none-any.whl (376 kB)\n",
            "\u001b[?25l\r\u001b[K     |▉                               | 10 kB 28.2 MB/s eta 0:00:01\r\u001b[K     |█▊                              | 20 kB 22.5 MB/s eta 0:00:01\r\u001b[K     |██▋                             | 30 kB 11.4 MB/s eta 0:00:01\r\u001b[K     |███▌                            | 40 kB 9.1 MB/s eta 0:00:01\r\u001b[K     |████▍                           | 51 kB 5.2 MB/s eta 0:00:01\r\u001b[K     |█████▏                          | 61 kB 5.8 MB/s eta 0:00:01\r\u001b[K     |██████                          | 71 kB 5.5 MB/s eta 0:00:01\r\u001b[K     |███████                         | 81 kB 6.2 MB/s eta 0:00:01\r\u001b[K     |███████▉                        | 92 kB 4.8 MB/s eta 0:00:01\r\u001b[K     |████████▊                       | 102 kB 5.1 MB/s eta 0:00:01\r\u001b[K     |█████████▋                      | 112 kB 5.1 MB/s eta 0:00:01\r\u001b[K     |██████████▍                     | 122 kB 5.1 MB/s eta 0:00:01\r\u001b[K     |███████████▎                    | 133 kB 5.1 MB/s eta 0:00:01\r\u001b[K     |████████████▏                   | 143 kB 5.1 MB/s eta 0:00:01\r\u001b[K     |█████████████                   | 153 kB 5.1 MB/s eta 0:00:01\r\u001b[K     |██████████████                  | 163 kB 5.1 MB/s eta 0:00:01\r\u001b[K     |██████████████▊                 | 174 kB 5.1 MB/s eta 0:00:01\r\u001b[K     |███████████████▋                | 184 kB 5.1 MB/s eta 0:00:01\r\u001b[K     |████████████████▌               | 194 kB 5.1 MB/s eta 0:00:01\r\u001b[K     |█████████████████▍              | 204 kB 5.1 MB/s eta 0:00:01\r\u001b[K     |██████████████████▎             | 215 kB 5.1 MB/s eta 0:00:01\r\u001b[K     |███████████████████▏            | 225 kB 5.1 MB/s eta 0:00:01\r\u001b[K     |████████████████████            | 235 kB 5.1 MB/s eta 0:00:01\r\u001b[K     |████████████████████▉           | 245 kB 5.1 MB/s eta 0:00:01\r\u001b[K     |█████████████████████▊          | 256 kB 5.1 MB/s eta 0:00:01\r\u001b[K     |██████████████████████▋         | 266 kB 5.1 MB/s eta 0:00:01\r\u001b[K     |███████████████████████▌        | 276 kB 5.1 MB/s eta 0:00:01\r\u001b[K     |████████████████████████▍       | 286 kB 5.1 MB/s eta 0:00:01\r\u001b[K     |█████████████████████████▏      | 296 kB 5.1 MB/s eta 0:00:01\r\u001b[K     |██████████████████████████      | 307 kB 5.1 MB/s eta 0:00:01\r\u001b[K     |███████████████████████████     | 317 kB 5.1 MB/s eta 0:00:01\r\u001b[K     |███████████████████████████▉    | 327 kB 5.1 MB/s eta 0:00:01\r\u001b[K     |████████████████████████████▊   | 337 kB 5.1 MB/s eta 0:00:01\r\u001b[K     |█████████████████████████████▌  | 348 kB 5.1 MB/s eta 0:00:01\r\u001b[K     |██████████████████████████████▍ | 358 kB 5.1 MB/s eta 0:00:01\r\u001b[K     |███████████████████████████████▎| 368 kB 5.1 MB/s eta 0:00:01\r\u001b[K     |████████████████████████████████| 376 kB 5.1 MB/s \n",
            "\u001b[?25hRequirement already satisfied: torchvision in /usr/local/lib/python3.7/dist-packages (from timm) (0.11.1+cu111)\n",
            "Requirement already satisfied: torch>=1.4 in /usr/local/lib/python3.7/dist-packages (from timm) (1.10.0+cu111)\n",
            "Requirement already satisfied: typing-extensions in /usr/local/lib/python3.7/dist-packages (from torch>=1.4->timm) (3.10.0.2)\n",
            "Requirement already satisfied: numpy in /usr/local/lib/python3.7/dist-packages (from torchvision->timm) (1.19.5)\n",
            "Requirement already satisfied: pillow!=8.3.0,>=5.3.0 in /usr/local/lib/python3.7/dist-packages (from torchvision->timm) (7.1.2)\n",
            "Installing collected packages: timm\n",
            "Successfully installed timm-0.4.12\n"
          ]
        }
      ]
    },
    {
      "cell_type": "code",
      "source": [
        "import numpy as np\n",
        "import timm\n",
        "import torch\n",
        "\n",
        "\n",
        "# Helpers\n",
        "def get_n_params(module):\n",
        "    return sum(p.numel() for p in module.parameters() if p.requires_grad)\n",
        "\n",
        "def assert_tensors_equal(t1, t2):\n",
        "    a1, a2 = t1.detach().numpy(), t2.detach().numpy()\n",
        "\n",
        "    np.testing.assert_allclose(a1, a2)\n",
        "\n",
        "model_name = \"vit_base_patch16_384\"\n",
        "model_official = timm.create_model(model_name, pretrained=True)\n",
        "model_official.eval()\n",
        "print(type(model_official))\n",
        "\n",
        "custom_config = {\n",
        "        \"img_size\": 384,\n",
        "        \"in_chans\": 3,\n",
        "        \"patch_size\": 16,\n",
        "        \"embed_dim\": 768,\n",
        "        \"depth\": 12,\n",
        "        \"n_heads\": 12,\n",
        "        \"qkv_bias\": True,\n",
        "        \"mlp_ratio\": 4,\n",
        "}\n",
        "\n",
        "model_custom = VisionTransformer(**custom_config)\n",
        "model_custom.eval()\n",
        "\n",
        "\n",
        "for (n_o, p_o), (n_c, p_c) in zip(\n",
        "        model_official.named_parameters(), model_custom.named_parameters()\n",
        "):\n",
        "    assert p_o.numel() == p_c.numel()\n",
        "    print(f\"{n_o} | {n_c}\")\n",
        "\n",
        "    p_c.data[:] = p_o.data\n",
        "\n",
        "    assert_tensors_equal(p_c.data, p_o.data)\n",
        "\n",
        "inp = torch.rand(1, 3, 384, 384)\n",
        "res_c = model_custom(inp)\n",
        "res_o = model_official(inp)\n",
        "\n",
        "# Asserts\n",
        "assert get_n_params(model_custom) == get_n_params(model_official)\n",
        "assert_tensors_equal(res_c, res_o)"
      ],
      "metadata": {
        "id": "Bh5aTe3Y0t6s",
        "colab": {
          "base_uri": "https://localhost:8080/"
        },
        "outputId": "3c0eab32-f589-4207-93e6-9575829f0599"
      },
      "execution_count": null,
      "outputs": [
        {
          "output_type": "stream",
          "name": "stdout",
          "text": [
            "<class 'timm.models.vision_transformer.VisionTransformer'>\n",
            "cls_token | cls_token\n",
            "pos_embed | pos_embed\n",
            "patch_embed.proj.weight | patch_embed.proj.weight\n",
            "patch_embed.proj.bias | patch_embed.proj.bias\n",
            "blocks.0.norm1.weight | blocks.0.norm1.weight\n",
            "blocks.0.norm1.bias | blocks.0.norm1.bias\n",
            "blocks.0.attn.qkv.weight | blocks.0.attn.qkv.weight\n",
            "blocks.0.attn.qkv.bias | blocks.0.attn.qkv.bias\n",
            "blocks.0.attn.proj.weight | blocks.0.attn.proj.weight\n",
            "blocks.0.attn.proj.bias | blocks.0.attn.proj.bias\n",
            "blocks.0.norm2.weight | blocks.0.norm2.weight\n",
            "blocks.0.norm2.bias | blocks.0.norm2.bias\n",
            "blocks.0.mlp.fc1.weight | blocks.0.mlp.fc1.weight\n",
            "blocks.0.mlp.fc1.bias | blocks.0.mlp.fc1.bias\n",
            "blocks.0.mlp.fc2.weight | blocks.0.mlp.fc2.weight\n",
            "blocks.0.mlp.fc2.bias | blocks.0.mlp.fc2.bias\n",
            "blocks.1.norm1.weight | blocks.1.norm1.weight\n",
            "blocks.1.norm1.bias | blocks.1.norm1.bias\n",
            "blocks.1.attn.qkv.weight | blocks.1.attn.qkv.weight\n",
            "blocks.1.attn.qkv.bias | blocks.1.attn.qkv.bias\n",
            "blocks.1.attn.proj.weight | blocks.1.attn.proj.weight\n",
            "blocks.1.attn.proj.bias | blocks.1.attn.proj.bias\n",
            "blocks.1.norm2.weight | blocks.1.norm2.weight\n",
            "blocks.1.norm2.bias | blocks.1.norm2.bias\n",
            "blocks.1.mlp.fc1.weight | blocks.1.mlp.fc1.weight\n",
            "blocks.1.mlp.fc1.bias | blocks.1.mlp.fc1.bias\n",
            "blocks.1.mlp.fc2.weight | blocks.1.mlp.fc2.weight\n",
            "blocks.1.mlp.fc2.bias | blocks.1.mlp.fc2.bias\n",
            "blocks.2.norm1.weight | blocks.2.norm1.weight\n",
            "blocks.2.norm1.bias | blocks.2.norm1.bias\n",
            "blocks.2.attn.qkv.weight | blocks.2.attn.qkv.weight\n",
            "blocks.2.attn.qkv.bias | blocks.2.attn.qkv.bias\n",
            "blocks.2.attn.proj.weight | blocks.2.attn.proj.weight\n",
            "blocks.2.attn.proj.bias | blocks.2.attn.proj.bias\n",
            "blocks.2.norm2.weight | blocks.2.norm2.weight\n",
            "blocks.2.norm2.bias | blocks.2.norm2.bias\n",
            "blocks.2.mlp.fc1.weight | blocks.2.mlp.fc1.weight\n",
            "blocks.2.mlp.fc1.bias | blocks.2.mlp.fc1.bias\n",
            "blocks.2.mlp.fc2.weight | blocks.2.mlp.fc2.weight\n",
            "blocks.2.mlp.fc2.bias | blocks.2.mlp.fc2.bias\n",
            "blocks.3.norm1.weight | blocks.3.norm1.weight\n",
            "blocks.3.norm1.bias | blocks.3.norm1.bias\n",
            "blocks.3.attn.qkv.weight | blocks.3.attn.qkv.weight\n",
            "blocks.3.attn.qkv.bias | blocks.3.attn.qkv.bias\n",
            "blocks.3.attn.proj.weight | blocks.3.attn.proj.weight\n",
            "blocks.3.attn.proj.bias | blocks.3.attn.proj.bias\n",
            "blocks.3.norm2.weight | blocks.3.norm2.weight\n",
            "blocks.3.norm2.bias | blocks.3.norm2.bias\n",
            "blocks.3.mlp.fc1.weight | blocks.3.mlp.fc1.weight\n",
            "blocks.3.mlp.fc1.bias | blocks.3.mlp.fc1.bias\n",
            "blocks.3.mlp.fc2.weight | blocks.3.mlp.fc2.weight\n",
            "blocks.3.mlp.fc2.bias | blocks.3.mlp.fc2.bias\n",
            "blocks.4.norm1.weight | blocks.4.norm1.weight\n",
            "blocks.4.norm1.bias | blocks.4.norm1.bias\n",
            "blocks.4.attn.qkv.weight | blocks.4.attn.qkv.weight\n",
            "blocks.4.attn.qkv.bias | blocks.4.attn.qkv.bias\n",
            "blocks.4.attn.proj.weight | blocks.4.attn.proj.weight\n",
            "blocks.4.attn.proj.bias | blocks.4.attn.proj.bias\n",
            "blocks.4.norm2.weight | blocks.4.norm2.weight\n",
            "blocks.4.norm2.bias | blocks.4.norm2.bias\n",
            "blocks.4.mlp.fc1.weight | blocks.4.mlp.fc1.weight\n",
            "blocks.4.mlp.fc1.bias | blocks.4.mlp.fc1.bias\n",
            "blocks.4.mlp.fc2.weight | blocks.4.mlp.fc2.weight\n",
            "blocks.4.mlp.fc2.bias | blocks.4.mlp.fc2.bias\n",
            "blocks.5.norm1.weight | blocks.5.norm1.weight\n",
            "blocks.5.norm1.bias | blocks.5.norm1.bias\n",
            "blocks.5.attn.qkv.weight | blocks.5.attn.qkv.weight\n",
            "blocks.5.attn.qkv.bias | blocks.5.attn.qkv.bias\n",
            "blocks.5.attn.proj.weight | blocks.5.attn.proj.weight\n",
            "blocks.5.attn.proj.bias | blocks.5.attn.proj.bias\n",
            "blocks.5.norm2.weight | blocks.5.norm2.weight\n",
            "blocks.5.norm2.bias | blocks.5.norm2.bias\n",
            "blocks.5.mlp.fc1.weight | blocks.5.mlp.fc1.weight\n",
            "blocks.5.mlp.fc1.bias | blocks.5.mlp.fc1.bias\n",
            "blocks.5.mlp.fc2.weight | blocks.5.mlp.fc2.weight\n",
            "blocks.5.mlp.fc2.bias | blocks.5.mlp.fc2.bias\n",
            "blocks.6.norm1.weight | blocks.6.norm1.weight\n",
            "blocks.6.norm1.bias | blocks.6.norm1.bias\n",
            "blocks.6.attn.qkv.weight | blocks.6.attn.qkv.weight\n",
            "blocks.6.attn.qkv.bias | blocks.6.attn.qkv.bias\n",
            "blocks.6.attn.proj.weight | blocks.6.attn.proj.weight\n",
            "blocks.6.attn.proj.bias | blocks.6.attn.proj.bias\n",
            "blocks.6.norm2.weight | blocks.6.norm2.weight\n",
            "blocks.6.norm2.bias | blocks.6.norm2.bias\n",
            "blocks.6.mlp.fc1.weight | blocks.6.mlp.fc1.weight\n",
            "blocks.6.mlp.fc1.bias | blocks.6.mlp.fc1.bias\n",
            "blocks.6.mlp.fc2.weight | blocks.6.mlp.fc2.weight\n",
            "blocks.6.mlp.fc2.bias | blocks.6.mlp.fc2.bias\n",
            "blocks.7.norm1.weight | blocks.7.norm1.weight\n",
            "blocks.7.norm1.bias | blocks.7.norm1.bias\n",
            "blocks.7.attn.qkv.weight | blocks.7.attn.qkv.weight\n",
            "blocks.7.attn.qkv.bias | blocks.7.attn.qkv.bias\n",
            "blocks.7.attn.proj.weight | blocks.7.attn.proj.weight\n",
            "blocks.7.attn.proj.bias | blocks.7.attn.proj.bias\n",
            "blocks.7.norm2.weight | blocks.7.norm2.weight\n",
            "blocks.7.norm2.bias | blocks.7.norm2.bias\n",
            "blocks.7.mlp.fc1.weight | blocks.7.mlp.fc1.weight\n",
            "blocks.7.mlp.fc1.bias | blocks.7.mlp.fc1.bias\n",
            "blocks.7.mlp.fc2.weight | blocks.7.mlp.fc2.weight\n",
            "blocks.7.mlp.fc2.bias | blocks.7.mlp.fc2.bias\n",
            "blocks.8.norm1.weight | blocks.8.norm1.weight\n",
            "blocks.8.norm1.bias | blocks.8.norm1.bias\n",
            "blocks.8.attn.qkv.weight | blocks.8.attn.qkv.weight\n",
            "blocks.8.attn.qkv.bias | blocks.8.attn.qkv.bias\n",
            "blocks.8.attn.proj.weight | blocks.8.attn.proj.weight\n",
            "blocks.8.attn.proj.bias | blocks.8.attn.proj.bias\n",
            "blocks.8.norm2.weight | blocks.8.norm2.weight\n",
            "blocks.8.norm2.bias | blocks.8.norm2.bias\n",
            "blocks.8.mlp.fc1.weight | blocks.8.mlp.fc1.weight\n",
            "blocks.8.mlp.fc1.bias | blocks.8.mlp.fc1.bias\n",
            "blocks.8.mlp.fc2.weight | blocks.8.mlp.fc2.weight\n",
            "blocks.8.mlp.fc2.bias | blocks.8.mlp.fc2.bias\n",
            "blocks.9.norm1.weight | blocks.9.norm1.weight\n",
            "blocks.9.norm1.bias | blocks.9.norm1.bias\n",
            "blocks.9.attn.qkv.weight | blocks.9.attn.qkv.weight\n",
            "blocks.9.attn.qkv.bias | blocks.9.attn.qkv.bias\n",
            "blocks.9.attn.proj.weight | blocks.9.attn.proj.weight\n",
            "blocks.9.attn.proj.bias | blocks.9.attn.proj.bias\n",
            "blocks.9.norm2.weight | blocks.9.norm2.weight\n",
            "blocks.9.norm2.bias | blocks.9.norm2.bias\n",
            "blocks.9.mlp.fc1.weight | blocks.9.mlp.fc1.weight\n",
            "blocks.9.mlp.fc1.bias | blocks.9.mlp.fc1.bias\n",
            "blocks.9.mlp.fc2.weight | blocks.9.mlp.fc2.weight\n",
            "blocks.9.mlp.fc2.bias | blocks.9.mlp.fc2.bias\n",
            "blocks.10.norm1.weight | blocks.10.norm1.weight\n",
            "blocks.10.norm1.bias | blocks.10.norm1.bias\n",
            "blocks.10.attn.qkv.weight | blocks.10.attn.qkv.weight\n",
            "blocks.10.attn.qkv.bias | blocks.10.attn.qkv.bias\n",
            "blocks.10.attn.proj.weight | blocks.10.attn.proj.weight\n",
            "blocks.10.attn.proj.bias | blocks.10.attn.proj.bias\n",
            "blocks.10.norm2.weight | blocks.10.norm2.weight\n",
            "blocks.10.norm2.bias | blocks.10.norm2.bias\n",
            "blocks.10.mlp.fc1.weight | blocks.10.mlp.fc1.weight\n",
            "blocks.10.mlp.fc1.bias | blocks.10.mlp.fc1.bias\n",
            "blocks.10.mlp.fc2.weight | blocks.10.mlp.fc2.weight\n",
            "blocks.10.mlp.fc2.bias | blocks.10.mlp.fc2.bias\n",
            "blocks.11.norm1.weight | blocks.11.norm1.weight\n",
            "blocks.11.norm1.bias | blocks.11.norm1.bias\n",
            "blocks.11.attn.qkv.weight | blocks.11.attn.qkv.weight\n",
            "blocks.11.attn.qkv.bias | blocks.11.attn.qkv.bias\n",
            "blocks.11.attn.proj.weight | blocks.11.attn.proj.weight\n",
            "blocks.11.attn.proj.bias | blocks.11.attn.proj.bias\n",
            "blocks.11.norm2.weight | blocks.11.norm2.weight\n",
            "blocks.11.norm2.bias | blocks.11.norm2.bias\n",
            "blocks.11.mlp.fc1.weight | blocks.11.mlp.fc1.weight\n",
            "blocks.11.mlp.fc1.bias | blocks.11.mlp.fc1.bias\n",
            "blocks.11.mlp.fc2.weight | blocks.11.mlp.fc2.weight\n",
            "blocks.11.mlp.fc2.bias | blocks.11.mlp.fc2.bias\n",
            "norm.weight | norm.weight\n",
            "norm.bias | norm.bias\n",
            "head.weight | head.weight\n",
            "head.bias | head.bias\n"
          ]
        }
      ]
    },
    {
      "cell_type": "code",
      "source": [
        "import tarfile\n",
        "import os\n",
        "from torchvision.datasets.utils import download_url\n",
        "from torchvision.datasets import ImageFolder\n",
        "from torchvision.transforms import ToTensor\n",
        "from PIL import Image\n",
        "from torch.utils.data import random_split, DataLoader\n",
        "from torchvision import transforms"
      ],
      "metadata": {
        "id": "ADrABG7u2kG7"
      },
      "execution_count": null,
      "outputs": []
    },
    {
      "cell_type": "code",
      "source": [
        "dataset_url = \"http://cs231n.stanford.edu/tiny-imagenet-200.zip\"\n",
        "download_url(dataset_url, '.')"
      ],
      "metadata": {
        "id": "Zwla07jo4-or",
        "colab": {
          "base_uri": "https://localhost:8080/",
          "height": 68,
          "referenced_widgets": [
            "1c8e77966b0849b894daecbdf3959d71",
            "b59c7f8a45244e098275cc0b62a947fd",
            "1a064594a1024a73a6fda04a37eaf22b",
            "324958b2dedb4e95b1e9e9cf27017ea3",
            "f9a51471ac3f4437b0e21cf3f81cc5e2",
            "871f263769ad4aec8c58fafccc342129",
            "48950fb206f847d69bf372c390192dbc",
            "a061f9b43bf84e299c3bacc041037fe1",
            "47482b97360b476690de1c28f4153d5c",
            "2c84d3fd1fad41f4b585b4f7f69bbace",
            "06105fa26bab4c31aac2e5f96f06e194"
          ]
        },
        "outputId": "dbf60766-121f-4499-ccba-e2557c9311c6"
      },
      "execution_count": null,
      "outputs": [
        {
          "output_type": "stream",
          "name": "stdout",
          "text": [
            "Downloading http://cs231n.stanford.edu/tiny-imagenet-200.zip to ./tiny-imagenet-200.zip\n"
          ]
        },
        {
          "output_type": "display_data",
          "data": {
            "application/vnd.jupyter.widget-view+json": {
              "model_id": "1c8e77966b0849b894daecbdf3959d71",
              "version_minor": 0,
              "version_major": 2
            },
            "text/plain": [
              "  0%|          | 0/248100043 [00:00<?, ?it/s]"
            ]
          },
          "metadata": {}
        }
      ]
    },
    {
      "cell_type": "code",
      "source": [
        "import zipfile\n",
        "with zipfile.ZipFile(\"tiny-imagenet-200.zip\",\"r\") as zip_ref:\n",
        "    zip_ref.extractall(\"data\")"
      ],
      "metadata": {
        "id": "xzVF0xZ25A92"
      },
      "execution_count": null,
      "outputs": []
    },
    {
      "cell_type": "code",
      "source": [
        "def format_val():\n",
        "\tval_dir = \"data/tiny-imagenet-200/val\"\n",
        "\tprint(\"Formatting: %s\" % val_dir)\n",
        "\tval_annotations = \"%s/val_annotations.txt\" % val_dir\n",
        "\tval_dict = {}\n",
        "\twith open(val_annotations, 'r') as f:\n",
        "\t\tfor line in f:\n",
        "\t\t\tline = line.strip().split()\n",
        "\t\t\tassert(len(line) == 6)\n",
        "\t\t\twnind = line[1]\n",
        "\t\t\timg_name = line[0]\n",
        "\t\t\tboxes = '\\t'.join(line[2:])\n",
        "\t\t\tif wnind not in val_dict:\n",
        "\t\t\t\tval_dict[wnind] = []\n",
        "\t\t\tentries = val_dict[wnind]\n",
        "\t\t\tentries.append((img_name, boxes))\n",
        "\tassert(len(val_dict) == 200)\n",
        "\tfor wnind, entries in val_dict.items():\n",
        "\t\tval_wnind_dir = \"%s/%s\" % (val_dir, wnind)\n",
        "\t\tval_images_dir = \"%s/images\" % val_dir\n",
        "\t\tval_wnind_images_dir = \"%s/images\" % val_wnind_dir\n",
        "\t\tos.mkdir(val_wnind_dir)\n",
        "\t\tos.mkdir(val_wnind_images_dir)\n",
        "\t\twnind_boxes = \"%s/%s_boxes.txt\" % (val_wnind_dir, wnind)\n",
        "\t\tf = open(wnind_boxes, \"w\")\n",
        "\t\tfor img_name, box in entries:\n",
        "\t\t\tsource = \"%s/%s\" % (val_images_dir, img_name)\n",
        "\t\t\tdst = \"%s/%s\" % (val_wnind_images_dir, img_name)\n",
        "\t\t\tos.system(\"cp %s %s\" % (source, dst))\n",
        "\t\t\tf.write(\"%s\\t%s\\n\" % (img_name, box))\n",
        "\t\tf.close()\n",
        "\tos.system(\"rm -rf %s\" % val_images_dir)\n",
        "\tprint(\"Cleaning up: %s\" % val_images_dir)\n",
        "\tprint(\"Formatting val done\")"
      ],
      "metadata": {
        "id": "YHhcouTH5H5g"
      },
      "execution_count": null,
      "outputs": []
    },
    {
      "cell_type": "code",
      "source": [
        "format_val()"
      ],
      "metadata": {
        "id": "7npQ_pql6zwg",
        "colab": {
          "base_uri": "https://localhost:8080/"
        },
        "outputId": "fb865442-4f2e-481f-fbac-4476f08ae5bc"
      },
      "execution_count": null,
      "outputs": [
        {
          "output_type": "stream",
          "name": "stdout",
          "text": [
            "Formatting: data/tiny-imagenet-200/val\n",
            "Cleaning up: data/tiny-imagenet-200/val/images\n",
            "Formatting val done\n"
          ]
        }
      ]
    },
    {
      "cell_type": "code",
      "source": [
        "val = (os.listdir('data/tiny-imagenet-200/train'))\n",
        "train = (os.listdir('data/tiny-imagenet-200/val'))\n",
        "print(train)\n",
        "print(val)"
      ],
      "metadata": {
        "id": "gupTtcBc5U9f",
        "colab": {
          "base_uri": "https://localhost:8080/"
        },
        "outputId": "5bb079d1-ea01-4435-e8f6-d4b6a1c32408"
      },
      "execution_count": null,
      "outputs": [
        {
          "output_type": "stream",
          "name": "stdout",
          "text": [
            "['n03388043', 'n03584254', 'n02906734', 'n02823428', 'n04133789', 'n02190166', 'n02099712', 'n02058221', 'n02917067', 'n02085620', 'n02437312', 'n04597913', 'n01945685', 'n02123394', 'n03992509', 'n03937543', 'n09428293', 'n03447447', 'n02927161', 'n03089624', 'n02883205', 'n03424325', 'n03763968', 'n03854065', 'n03444034', 'n04265275', 'n03400231', 'n02123045', 'n02206856', 'n03796401', 'n03599486', 'n04560804', 'n04366367', 'n09256479', 'n07579787', 'n03733131', 'n04285008', 'n04399382', 'n03983396', 'n04311004', 'n03970156', 'n02795169', 'n03649909', 'n03902125', 'n02509815', 'n02364673', 'n02236044', 'n03617480', 'n03250847', 'n03930313', 'n02480495', 'n03179701', 'n01910747', 'n01644900', 'n02395406', 'n02124075', 'n02814860', 'n04465501', 'n02802426', 'n07720875', 'n04008634', 'n02099601', 'n03976657', 'n01774750', 'n02843684', 'n02132136', 'n04487081', 'n02504458', 'n02415577', 'n04507155', 'n04596742', 'n07768694', 'n09246464', 'n04540053', 'n01950731', 'n02268443', 'n03706229', 'n01855672', 'n03404251', 'n02963159', 'n02730930', 'val_annotations.txt', 'n03393912', 'n07753592', 'n04562935', 'n02129165', 'n03838899', 'n03026506', 'n03980874', 'n04371430', 'n01944390', 'n02481823', 'n02423022', 'n02226429', 'n01768244', 'n03042490', 'n03201208', 'n01917289', 'n02056570', 'n04254777', 'n04532106', 'n07711569', 'n07875152', 'n07873807', 'n03085013', 'n04070727', 'n02165456', 'n07614500', 'n04259630', 'n04067472', 'n02988304', 'n04179913', 'n03255030', 'n02486410', 'n03804744', 'n01984695', 'n03100240', 'n02281406', 'n04376876', 'n02999410', 'n03662601', 'n02841315', 'n02950826', 'n07747607', 'n04149813', 'n02666196', 'n03544143', 'n02699494', 'n06596364', 'n01770393', 'n02002724', 'n01443537', 'n03014705', 'n04328186', 'n01742172', 'n02125311', 'n01698640', 'n02814533', 'n09193705', 'n02808440', 'n02279972', 'n01641577', 'n04456115', 'n02113799', 'n02233338', 'n04532670', 'n02977058', 'n01882714', 'n04099969', 'n02231487', 'n02074367', 'n03637318', 'n07920052', 'n04486054', 'n04356056', 'n02410509', 'n09332890', 'n03814639', 'n02791270', 'n02837789', 'n02321529', 'n02892201', 'n03670208', 'n02788148', 'n02403003', 'n02815834', 'n02948072', 'n02793495', 'n03977966', 'n07871810', 'n04118538', 'n07715103', 'n07695742', 'n01784675', 'n07615774', 'n03160309', 'n01629819', 'n04417672', 'n03355925', 'n01774384', 'n02909870', 'n04251144', 'n02094433', 'n04398044', 'n07583066', 'n02769748', 'n04023962', 'n01983481', 'n03126707', 'n03770439', 'n04146614', 'n04074963', 'n02669723', 'n07734744', 'n03837869', 'n07749582', 'n04275548', 'n02106662', 'n12267677', 'n04501370', 'n03891332']\n",
            "['n03388043', 'n03584254', 'n02906734', 'n02823428', 'n04133789', 'n02190166', 'n02099712', 'n02058221', 'n02917067', 'n02085620', 'n02437312', 'n04597913', 'n01945685', 'n02123394', 'n03992509', 'n03937543', 'n09428293', 'n03447447', 'n02927161', 'n03089624', 'n02883205', 'n03424325', 'n03763968', 'n03854065', 'n03444034', 'n04265275', 'n03400231', 'n02123045', 'n02206856', 'n03796401', 'n03599486', 'n04560804', 'n04366367', 'n09256479', 'n07579787', 'n03733131', 'n04285008', 'n04399382', 'n03983396', 'n04311004', 'n03970156', 'n02795169', 'n03649909', 'n03902125', 'n02509815', 'n02364673', 'n02236044', 'n03617480', 'n03250847', 'n03930313', 'n02480495', 'n03179701', 'n01910747', 'n01644900', 'n02395406', 'n02124075', 'n02814860', 'n04465501', 'n02802426', 'n07720875', 'n04008634', 'n02099601', 'n03976657', 'n01774750', 'n02843684', 'n02132136', 'n04487081', 'n02504458', 'n02415577', 'n04507155', 'n04596742', 'n07768694', 'n09246464', 'n04540053', 'n01950731', 'n02268443', 'n03706229', 'n01855672', 'n03404251', 'n02963159', 'n02730930', 'n03393912', 'n07753592', 'n04562935', 'n02129165', 'n03838899', 'n03026506', 'n03980874', 'n04371430', 'n01944390', 'n02481823', 'n02423022', 'n02226429', 'n01768244', 'n03042490', 'n03201208', 'n01917289', 'n02056570', 'n04254777', 'n04532106', 'n07711569', 'n07875152', 'n07873807', 'n03085013', 'n04070727', 'n02165456', 'n07614500', 'n04259630', 'n04067472', 'n02988304', 'n04179913', 'n03255030', 'n02486410', 'n03804744', 'n01984695', 'n03100240', 'n02281406', 'n04376876', 'n02999410', 'n03662601', 'n02841315', 'n02950826', 'n07747607', 'n04149813', 'n02666196', 'n03544143', 'n02699494', 'n06596364', 'n01770393', 'n02002724', 'n01443537', 'n03014705', 'n04328186', 'n01742172', 'n02125311', 'n01698640', 'n02814533', 'n09193705', 'n02808440', 'n02279972', 'n01641577', 'n04456115', 'n02113799', 'n02233338', 'n04532670', 'n02977058', 'n01882714', 'n04099969', 'n02231487', 'n02074367', 'n03637318', 'n07920052', 'n04486054', 'n04356056', 'n02410509', 'n09332890', 'n03814639', 'n02791270', 'n02837789', 'n02321529', 'n02892201', 'n03670208', 'n02788148', 'n02403003', 'n02815834', 'n02948072', 'n02793495', 'n03977966', 'n07871810', 'n04118538', 'n07715103', 'n07695742', 'n01784675', 'n07615774', 'n03160309', 'n01629819', 'n04417672', 'n03355925', 'n01774384', 'n02909870', 'n04251144', 'n02094433', 'n04398044', 'n07583066', 'n02769748', 'n04023962', 'n01983481', 'n03126707', 'n03770439', 'n04146614', 'n04074963', 'n02669723', 'n07734744', 'n03837869', 'n07749582', 'n04275548', 'n02106662', 'n12267677', 'n04501370', 'n03891332']\n"
          ]
        }
      ]
    },
    {
      "cell_type": "code",
      "source": [
        "data_dir = 'data/tiny-imagenet-200/'\n",
        "num_workers = {'train' : 2,'val'   : 0,'test'  : 0}\n",
        "data_transforms = {\n",
        "    'train': transforms.Compose([\n",
        "        transforms.RandomRotation(20),\n",
        "        transforms.RandomHorizontalFlip(0.5),\n",
        "        transforms.ToTensor(),\n",
        "        transforms.Normalize([0.4802, 0.4481, 0.3975], [0.2302, 0.2265, 0.2262]),\n",
        "    ]),\n",
        "    'val': transforms.Compose([\n",
        "        transforms.ToTensor(),\n",
        "        transforms.Normalize([0.4802, 0.4481, 0.3975], [0.2302, 0.2265, 0.2262]),\n",
        "    ]),\n",
        "    'test': transforms.Compose([\n",
        "        transforms.ToTensor(),\n",
        "        transforms.Normalize([0.4802, 0.4481, 0.3975], [0.2302, 0.2265, 0.2262]),\n",
        "    ])\n",
        "}\n",
        "image_datasets = {x: ImageFolder(os.path.join(data_dir, x), data_transforms[x]) \n",
        "                  for x in ['train', 'val','test']}\n",
        "dataloaders = {x: DataLoader(image_datasets[x], batch_size=100, shuffle=True, num_workers=num_workers[x])\n",
        "                  for x in ['train', 'val', 'test']}\n",
        "dataset_sizes = {x: len(image_datasets[x]) for x in ['train', 'val', 'test']}"
      ],
      "metadata": {
        "id": "cXxLnkZr5YfK"
      },
      "execution_count": null,
      "outputs": []
    },
    {
      "cell_type": "code",
      "source": [
        "def get_device():\n",
        "  if torch.cuda.is_available():\n",
        "    return torch.device(\"cuda\")\n",
        "  return torch.device(\"cpu\")\n",
        "\n",
        "def to_device(data, device):\n",
        "  \n",
        "  if isinstance(data, (list, tuple)):\n",
        "    return [to_device(x, device) for x in data]\n",
        "  return data.to(device, non_blocking = True)\n",
        "\n",
        "class DataLoaderWrapper():\n",
        "  def __init__(self, dl, device):\n",
        "    self.dl = dl\n",
        "    self.device = device\n",
        "\n",
        "  def __iter__(self):\n",
        "    for b in self.dl:\n",
        "      yield to_device(b, self.device)\n",
        "\n",
        "\n",
        "  def __len__(self):\n",
        "    return len(self.dl)"
      ],
      "metadata": {
        "id": "348HPOgo5fFK"
      },
      "execution_count": null,
      "outputs": []
    },
    {
      "cell_type": "code",
      "source": [
        "import matplotlib.pyplot as plt\n",
        "def show_example(img, label):\n",
        "    print('Label: ', label, \"(\"+str(label)+\")\")\n",
        "    plt.imshow(img.permute(1, 2, 0))"
      ],
      "metadata": {
        "id": "ECB34hmW-Lel"
      },
      "execution_count": null,
      "outputs": []
    },
    {
      "cell_type": "code",
      "source": [
        "\n",
        "train_dataset = image_datasets['val']\n",
        "show_example(*train_dataset[49])\n"
      ],
      "metadata": {
        "colab": {
          "base_uri": "https://localhost:8080/",
          "height": 305
        },
        "id": "GMU4CUgv-NS9",
        "outputId": "47aa23b9-78ef-4ef7-ec12-3a81ce544ef6"
      },
      "execution_count": null,
      "outputs": [
        {
          "output_type": "stream",
          "name": "stderr",
          "text": [
            "Clipping input data to the valid range for imshow with RGB data ([0..1] for floats or [0..255] for integers).\n"
          ]
        },
        {
          "output_type": "stream",
          "name": "stdout",
          "text": [
            "Label:  0 (0)\n"
          ]
        },
        {
          "output_type": "display_data",
          "data": {
            "image/png": "[encoded data removed]",
            "text/plain": [
              "<Figure size 432x288 with 1 Axes>"
            ]
          },
          "metadata": {
            "needs_background": "light"
          }
        }
      ]
    },
    {
      "cell_type": "code",
      "source": [
        "train_loader = DataLoaderWrapper(dataloaders['train'],get_device())\n",
        "val_loader = DataLoaderWrapper(dataloaders['val'],get_device())"
      ],
      "metadata": {
        "id": "-fYLkS0N59JP"
      },
      "execution_count": null,
      "outputs": []
    },
    {
      "cell_type": "code",
      "source": [
        "for images, labels in val_loader:\n",
        "    print(\"device\", images.device)\n",
        "    print('images.shape:', images.shape)\n",
        "    print('images.shape:', labels.shape)\n",
        "    print(labels)\n",
        "    break"
      ],
      "metadata": {
        "colab": {
          "base_uri": "https://localhost:8080/"
        },
        "id": "Pu51gogm--1W",
        "outputId": "ea3f143c-6dbd-4a0e-9678-21106b211071"
      },
      "execution_count": null,
      "outputs": [
        {
          "output_type": "stream",
          "name": "stdout",
          "text": [
            "device cuda:0\n",
            "images.shape: torch.Size([100, 3, 64, 64])\n",
            "images.shape: torch.Size([100])\n",
            "tensor([162,  45,  37,  96,   2, 101,  14, 127,  10,  37, 197, 150,   3, 196,\n",
            "         62, 189,  19, 190, 188, 174,  84, 190, 175, 147,  53,  18, 155, 142,\n",
            "         28,   7,  26,  39,  10,  90,  71, 175,   5,  10, 138,  46,  90,  12,\n",
            "        112,  33,  30,  41, 164,  96,  80, 194,  75, 172,  19, 150,  21,  62,\n",
            "         64,  41,  86, 106, 134,   0, 163,  19, 190, 198, 157, 182, 150, 130,\n",
            "          9, 108, 100,  22,  19,  16,  59, 100, 167,  68, 104, 182, 160, 110,\n",
            "         39,  24, 179,  48, 123, 143,  77, 123, 186,  49,  84,   5,   8, 138,\n",
            "        190, 152], device='cuda:0')\n"
          ]
        }
      ]
    },
    {
      "cell_type": "code",
      "source": [
        "def accuracy(outputs, labels):\n",
        "  _, preds = torch.max(outputs, dim=1)\n",
        "  return torch.tensor(torch.sum(preds == labels).item() / len(preds))"
      ],
      "metadata": {
        "id": "U83lg8aW6P5U"
      },
      "execution_count": null,
      "outputs": []
    },
    {
      "cell_type": "code",
      "source": [
        "import torch.nn.functional as F"
      ],
      "metadata": {
        "id": "di0mHFhEBXQy"
      },
      "execution_count": null,
      "outputs": []
    },
    {
      "cell_type": "code",
      "source": [
        "@torch.no_grad()\n",
        "def evaluate(val_loader, model):\n",
        "  val_losses = []\n",
        "  acc_losses = []\n",
        "  model.eval()\n",
        "  for images, labels in val_loader:\n",
        "     \n",
        "      output = model(images)\n",
        "      loss = F.cross_entropy(output, labels)\n",
        "      acc = accuracy(output, labels)\n",
        "\n",
        "      val_losses.append(loss)\n",
        "      acc_losses.append(acc)\n",
        "      \n",
        "      \n",
        "\n",
        "  epoch_loss = torch.stack(val_losses).mean()\n",
        "  epoch_acc = torch.stack(acc_losses).mean()  \n",
        "  \n",
        "  return epoch_loss, epoch_acc"
      ],
      "metadata": {
        "id": "klhNNn3p6f7b"
      },
      "execution_count": null,
      "outputs": []
    },
    {
      "cell_type": "code",
      "source": [
        "custom_config = {\n",
        "        \"img_size\": 64,\n",
        "        \"in_chans\": 3,\n",
        "        \"patch_size\": 16,\n",
        "        \"embed_dim\": 768,\n",
        "        \"depth\": 12,\n",
        "        \"n_heads\": 12,\n",
        "        \"qkv_bias\": True,\n",
        "        \"mlp_ratio\": 4,\n",
        "}\n",
        "\n",
        "model = VisionTransformer(**custom_config).to(get_device())"
      ],
      "metadata": {
        "id": "rnwzwd1jAC0J"
      },
      "execution_count": null,
      "outputs": []
    },
    {
      "cell_type": "code",
      "source": [
        "init_epoch_loss, init_epoch_acc = evaluate(val_loader,model)\n",
        "init_epoch_loss, init_epoch_acc"
      ],
      "metadata": {
        "colab": {
          "base_uri": "https://localhost:8080/"
        },
        "id": "OnXEaOYYACpX",
        "outputId": "750aefbb-90ce-4f01-a8aa-baad206b06e6"
      },
      "execution_count": null,
      "outputs": [
        {
          "output_type": "execute_result",
          "data": {
            "text/plain": [
              "(tensor(7.1358, device='cuda:0'), tensor(0.0003))"
            ]
          },
          "metadata": {},
          "execution_count": 44
        }
      ]
    },
    {
      "cell_type": "code",
      "source": [
        "def fit(model, epoches, lr, train_loader, val_loader, opt=torch.optim.SGD):\n",
        "  optimizer = torch.optim.SGD(model.parameters(), lr, momentum=0.9, weight_decay=5e-4 )\n",
        "  \n",
        "  \n",
        "  history = []\n",
        "\n",
        "\n",
        "  for epoch in range(epoches):\n",
        "    \n",
        "    \n",
        "    for images, labels in train_loader:\n",
        "      model.train()\n",
        "      output = model(images)\n",
        "      \n",
        "      loss = F.cross_entropy(output, labels)\n",
        "      loss.backward()\n",
        "      optimizer.step()\n",
        "      optimizer.zero_grad()\n",
        "\n",
        "    epoch_loss, epoch_acc = evaluate(val_loader,model)\n",
        "    print(\"Epoch [{}], epoch_loss: {:.4f}, epoch_acc: {:.4f}\".format(epoch, epoch_loss, epoch_acc))\n",
        "    history.append({'val_loss': epoch_loss.item(), 'val_acc': epoch_acc.item()}) \n",
        "\n"
      ],
      "metadata": {
        "id": "QdbgpwYD6kd5"
      },
      "execution_count": null,
      "outputs": []
    },
    {
      "cell_type": "code",
      "source": [
        "history = fit(model, 10, 0.001, train_loader, val_loader)"
      ],
      "metadata": {
        "colab": {
          "base_uri": "https://localhost:8080/"
        },
        "id": "2APm1JpvBoE9",
        "outputId": "d370aa10-8ce3-4eb9-f04f-8ea45e702bbf"
      },
      "execution_count": null,
      "outputs": [
        {
          "output_type": "stream",
          "name": "stdout",
          "text": [
            "Epoch [0], epoch_loss: 4.7031, epoch_acc: 0.0604\n",
            "Epoch [1], epoch_loss: 4.4396, epoch_acc: 0.0863\n",
            "Epoch [2], epoch_loss: 4.2979, epoch_acc: 0.1075\n",
            "Epoch [3], epoch_loss: 4.2472, epoch_acc: 0.1116\n",
            "Epoch [4], epoch_loss: 4.1476, epoch_acc: 0.1242\n",
            "Epoch [5], epoch_loss: 4.0939, epoch_acc: 0.1309\n",
            "Epoch [6], epoch_loss: 4.0155, epoch_acc: 0.1418\n",
            "Epoch [7], epoch_loss: 4.0139, epoch_acc: 0.1451\n",
            "Epoch [8], epoch_loss: 3.9627, epoch_acc: 0.1536\n",
            "Epoch [9], epoch_loss: 3.9346, epoch_acc: 0.1569\n"
          ]
        }
      ]
    },
    {
      "cell_type": "code",
      "source": [
        "overall_history = history\n",
        "accuracies = [result['val_acc'] for result in overall_history] \n",
        "plt.plot(accuracies, '-x')\n",
        "plt.xlabel('epoch')\n",
        "plt.ylabel('accuracy')"
      ],
      "metadata": {
        "colab": {
          "base_uri": "https://localhost:8080/",
          "height": 244
        },
        "id": "ExP_JcKRczIu",
        "outputId": "479cac38-2c42-4eaa-e095-5e95d1eb48b7"
      },
      "execution_count": null,
      "outputs": [
        {
          "output_type": "error",
          "ename": "TypeError",
          "evalue": "ignored",
          "traceback": [
            "\u001b[0;31m---------------------------------------------------------------------------\u001b[0m",
            "\u001b[0;31mTypeError\u001b[0m                                 Traceback (most recent call last)",
            "\u001b[0;32m<ipython-input-47-cb656982c320>\u001b[0m in \u001b[0;36m<module>\u001b[0;34m()\u001b[0m\n\u001b[1;32m      1\u001b[0m \u001b[0moverall_history\u001b[0m \u001b[0;34m=\u001b[0m \u001b[0mhistory\u001b[0m\u001b[0;34m\u001b[0m\u001b[0;34m\u001b[0m\u001b[0m\n\u001b[0;32m----> 2\u001b[0;31m \u001b[0maccuracies\u001b[0m \u001b[0;34m=\u001b[0m \u001b[0;34m[\u001b[0m\u001b[0mresult\u001b[0m\u001b[0;34m[\u001b[0m\u001b[0;34m'val_acc'\u001b[0m\u001b[0;34m]\u001b[0m \u001b[0;32mfor\u001b[0m \u001b[0mresult\u001b[0m \u001b[0;32min\u001b[0m \u001b[0moverall_history\u001b[0m\u001b[0;34m]\u001b[0m\u001b[0;34m\u001b[0m\u001b[0;34m\u001b[0m\u001b[0m\n\u001b[0m\u001b[1;32m      3\u001b[0m \u001b[0mplt\u001b[0m\u001b[0;34m.\u001b[0m\u001b[0mplot\u001b[0m\u001b[0;34m(\u001b[0m\u001b[0maccuracies\u001b[0m\u001b[0;34m,\u001b[0m \u001b[0;34m'-x'\u001b[0m\u001b[0;34m)\u001b[0m\u001b[0;34m\u001b[0m\u001b[0;34m\u001b[0m\u001b[0m\n\u001b[1;32m      4\u001b[0m \u001b[0mplt\u001b[0m\u001b[0;34m.\u001b[0m\u001b[0mxlabel\u001b[0m\u001b[0;34m(\u001b[0m\u001b[0;34m'epoch'\u001b[0m\u001b[0;34m)\u001b[0m\u001b[0;34m\u001b[0m\u001b[0;34m\u001b[0m\u001b[0m\n\u001b[1;32m      5\u001b[0m \u001b[0mplt\u001b[0m\u001b[0;34m.\u001b[0m\u001b[0mylabel\u001b[0m\u001b[0;34m(\u001b[0m\u001b[0;34m'accuracy'\u001b[0m\u001b[0;34m)\u001b[0m\u001b[0;34m\u001b[0m\u001b[0;34m\u001b[0m\u001b[0m\n",
            "\u001b[0;31mTypeError\u001b[0m: 'NoneType' object is not iterable"
          ]
        }
      ]
    }
  ]
}